{
 "cells": [
  {
   "cell_type": "code",
   "execution_count": 1,
   "metadata": {},
   "outputs": [],
   "source": [
    "import numpy as np"
   ]
  },
  {
   "cell_type": "code",
   "execution_count": 24,
   "metadata": {},
   "outputs": [],
   "source": [
    "# autoreload modules when code is run. Otherwise, python will not see recent changes. \n",
    "%load_ext autoreload\n",
    "%autoreload 2\n",
    "\n",
    "# Import your own code\n",
    "import inauguralproject"
   ]
  },
  {
   "cell_type": "code",
   "execution_count": 25,
   "metadata": {},
   "outputs": [],
   "source": [
    "from ExchangeEconomy import ExchangeEconomyClass\n",
    "model = ExchangeEconomyClass()\n",
    "par = model.par\n",
    "\n",
    "# a. total endowment\n",
    "w1bar = 1.0\n",
    "w2bar = 1.0\n"
   ]
  },
  {
   "cell_type": "code",
   "execution_count": 50,
   "metadata": {},
   "outputs": [
    {
     "name": "stdout",
     "output_type": "stream",
     "text": [
      "[]\n",
      "[0.5, 0.7, 0.9, 1.1, 1.3, 1.5, 1.7000000000000002, 1.9000000000000001, 2.1, 2.3, 2.5]\n"
     ]
    }
   ],
   "source": [
    "# Question 2\n",
    "## defining p1 \n",
    "N = 10  \n",
    "P1 = []\n",
    "print(P1)\n",
    "for i in range(N + 1):\n",
    "    P1.append( 0.5 + i * (2 / N))\n",
    "print(P1)\n",
    "\n",
    "\n"
   ]
  },
  {
   "cell_type": "code",
   "execution_count": 43,
   "metadata": {},
   "outputs": [
    {
     "name": "stdout",
     "output_type": "stream",
     "text": [
      "For P1[0]:\n",
      "Error_A: -1.0666666666666667\n",
      "Error_B: 1.3333333333333333\n",
      "For P1[1]:\n",
      "Error_A: -1.0171428571428571\n",
      "Error_B: 1.0799999999999998\n",
      "For P1[2]:\n",
      "Error_A: -0.9422222222222223\n",
      "Error_B: 0.945185185185185\n",
      "For P1[3]:\n",
      "Error_A: -0.8557575757575755\n",
      "Error_B: 0.8642424242424243\n",
      "For P1[4]:\n",
      "Error_A: -0.7630769230769228\n",
      "Error_B: 0.8123076923076922\n",
      "For P1[5]:\n",
      "Error_A: -0.6666666666666665\n",
      "Error_B: 0.7777777777777777\n",
      "For P1[6]:\n",
      "Error_A: -0.5678431372549015\n",
      "Error_B: 0.7545098039215685\n",
      "For P1[7]:\n",
      "Error_A: -0.46736842105263143\n",
      "Error_B: 0.7389473684210526\n",
      "For P1[8]:\n",
      "Error_A: -0.36571428571428544\n",
      "Error_B: 0.7288888888888889\n",
      "For P1[9]:\n",
      "Error_A: -0.2631884057971017\n",
      "Error_B: 0.7228985507246376\n",
      "For P1[10]:\n",
      "Error_A: -0.15999999999999992\n",
      "Error_B: 0.72\n"
     ]
    }
   ],
   "source": [
    "# calculate error: \n",
    "for i in range(N+1):\n",
    "    error_A_result = model.demand_A(P1[i]) - w1bar - w2bar\n",
    "    error_B_result = model.demand_B(P1[i]) - (1-w1bar) - (1-w2bar)\n",
    "    print(f\"For P1[{i}]:\")\n",
    "    print(\"Error_A:\", error_A_result)\n",
    "    print(\"Error_B:\", error_B_result)"
   ]
  },
  {
   "cell_type": "code",
   "execution_count": 66,
   "metadata": {},
   "outputs": [
    {
     "name": "stdout",
     "output_type": "stream",
     "text": [
      "For p1 = 0.5:\n",
      "   Error in market clearing condition 1: 0.5333333333333332\n",
      "   Error in market clearing condition 2: -0.2666666666666666\n",
      "For p1 = 0.7:\n",
      "   Error in market clearing condition 1: 0.20952380952380933\n",
      "   Error in market clearing condition 2: -0.1466666666666666\n",
      "For p1 = 0.9:\n",
      "   Error in market clearing condition 1: 0.029629629629629395\n",
      "   Error in market clearing condition 2: -0.026666666666666616\n",
      "For p1 = 1.1:\n",
      "   Error in market clearing condition 1: -0.0848484848484849\n",
      "   Error in market clearing condition 2: 0.0933333333333336\n",
      "For p1 = 1.3:\n",
      "   Error in market clearing condition 1: -0.16410256410256419\n",
      "   Error in market clearing condition 2: 0.2133333333333336\n",
      "For p1 = 1.5:\n",
      "   Error in market clearing condition 1: -0.22222222222222232\n",
      "   Error in market clearing condition 2: 0.3333333333333335\n",
      "For p1 = 1.7000000000000002:\n",
      "   Error in market clearing condition 1: -0.2666666666666668\n",
      "   Error in market clearing condition 2: 0.4533333333333338\n",
      "For p1 = 1.9000000000000001:\n",
      "   Error in market clearing condition 1: -0.3017543859649124\n",
      "   Error in market clearing condition 2: 0.5733333333333335\n",
      "For p1 = 2.1:\n",
      "   Error in market clearing condition 1: -0.3301587301587302\n",
      "   Error in market clearing condition 2: 0.6933333333333336\n",
      "For p1 = 2.3:\n",
      "   Error in market clearing condition 1: -0.35362318840579715\n",
      "   Error in market clearing condition 2: 0.8133333333333332\n",
      "For p1 = 2.5:\n",
      "   Error in market clearing condition 1: -0.3733333333333334\n",
      "   Error in market clearing condition 2: 0.9333333333333333\n"
     ]
    }
   ],
   "source": [
    "## work for task 2!\n",
    "for p1 in P1:\n",
    "    eps1, eps2 = model.check_market_clearing(p1)\n",
    "    print(f\"For p1 = {p1}:\")\n",
    "    print(\"   Error in market clearing condition 1:\", eps1)\n",
    "    print(\"   Error in market clearing condition 2:\", eps2)\n",
    "\n"
   ]
  },
  {
   "cell_type": "code",
   "execution_count": null,
   "metadata": {},
   "outputs": [],
   "source": [
    "## question 3 \n",
    "## get market clearing price "
   ]
  }
 ],
 "metadata": {
  "kernelspec": {
   "display_name": "base",
   "language": "python",
   "name": "python3"
  },
  "language_info": {
   "codemirror_mode": {
    "name": "ipython",
    "version": 3
   },
   "file_extension": ".py",
   "mimetype": "text/x-python",
   "name": "python",
   "nbconvert_exporter": "python",
   "pygments_lexer": "ipython3",
   "version": "3.11.7"
  }
 },
 "nbformat": 4,
 "nbformat_minor": 2
}
