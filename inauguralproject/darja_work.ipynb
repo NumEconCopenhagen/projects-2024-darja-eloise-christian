{
 "cells": [
  {
   "cell_type": "code",
   "execution_count": 1,
   "metadata": {},
   "outputs": [],
   "source": [
    "import numpy as np"
   ]
  },
  {
   "cell_type": "code",
   "execution_count": 24,
   "metadata": {},
   "outputs": [],
   "source": [
    "# autoreload modules when code is run. Otherwise, python will not see recent changes. \n",
    "%load_ext autoreload\n",
    "%autoreload 2\n",
    "\n",
    "# Import your own code\n",
    "import inauguralproject"
   ]
  },
  {
   "cell_type": "code",
   "execution_count": 25,
   "metadata": {},
   "outputs": [],
   "source": [
    "from ExchangeEconomy import ExchangeEconomyClass\n",
    "model = ExchangeEconomyClass()\n",
    "par = model.par\n",
    "\n",
    "# a. total endowment\n",
    "w1bar = 1.0\n",
    "w2bar = 1.0\n"
   ]
  },
  {
   "cell_type": "code",
   "execution_count": 71,
   "metadata": {},
   "outputs": [
    {
     "name": "stdout",
     "output_type": "stream",
     "text": [
      "[]\n",
      "[0.5, 0.7, 0.9, 1.1, 1.3, 1.5, 1.7000000000000002, 1.9000000000000001, 2.1, 2.3, 2.5]\n"
     ]
    }
   ],
   "source": [
    "# Question 2\n",
    "## defining p1 \n",
    "N = 10  \n",
    "P1 = []\n",
    "print(P1)\n",
    "for i in range(N + 1):\n",
    "    P1.append( 0.5 + i * (2 / N))\n",
    "print(P1)\n",
    "\n",
    "\n"
   ]
  },
  {
   "cell_type": "code",
   "execution_count": 73,
   "metadata": {},
   "outputs": [
    {
     "ename": "TypeError",
     "evalue": "unsupported operand type(s) for -: 'tuple' and 'float'",
     "output_type": "error",
     "traceback": [
      "\u001b[0;31m---------------------------------------------------------------------------\u001b[0m",
      "\u001b[0;31mTypeError\u001b[0m                                 Traceback (most recent call last)",
      "Cell \u001b[0;32mIn[73], line 3\u001b[0m\n\u001b[1;32m      1\u001b[0m \u001b[38;5;66;03m# calculate error: \u001b[39;00m\n\u001b[1;32m      2\u001b[0m \u001b[38;5;28;01mfor\u001b[39;00m i \u001b[38;5;129;01min\u001b[39;00m \u001b[38;5;28mrange\u001b[39m(N\u001b[38;5;241m+\u001b[39m\u001b[38;5;241m1\u001b[39m):\n\u001b[0;32m----> 3\u001b[0m     error_A_result \u001b[38;5;241m=\u001b[39m model\u001b[38;5;241m.\u001b[39mdemand_A(P1[i]) \u001b[38;5;241m-\u001b[39m w1bar \u001b[38;5;241m-\u001b[39m w2bar\n\u001b[1;32m      4\u001b[0m     error_B_result \u001b[38;5;241m=\u001b[39m model\u001b[38;5;241m.\u001b[39mdemand_B(P1[i]) \u001b[38;5;241m-\u001b[39m (\u001b[38;5;241m1\u001b[39m\u001b[38;5;241m-\u001b[39mw1bar) \u001b[38;5;241m-\u001b[39m (\u001b[38;5;241m1\u001b[39m\u001b[38;5;241m-\u001b[39mw2bar)\n\u001b[1;32m      5\u001b[0m     \u001b[38;5;28mprint\u001b[39m(\u001b[38;5;124mf\u001b[39m\u001b[38;5;124m\"\u001b[39m\u001b[38;5;124mFor P1[\u001b[39m\u001b[38;5;132;01m{\u001b[39;00mi\u001b[38;5;132;01m}\u001b[39;00m\u001b[38;5;124m]:\u001b[39m\u001b[38;5;124m\"\u001b[39m)\n",
      "\u001b[0;31mTypeError\u001b[0m: unsupported operand type(s) for -: 'tuple' and 'float'"
     ]
    }
   ],
   "source": [
    "# calculate error: \n",
    "for i in range(N+1):\n",
    "    error_A_result = model.demand_A(P1[i]) - w1bar - w2bar\n",
    "    error_B_result = model.demand_B(P1[i]) - (1-w1bar) - (1-w2bar)\n",
    "    print(f\"For P1[{i}]:\")\n",
    "    print(\"Error_A:\", error_A_result)\n",
    "    print(\"Error_B:\", error_B_result)"
   ]
  },
  {
   "cell_type": "code",
   "execution_count": 66,
   "metadata": {},
   "outputs": [
    {
     "name": "stdout",
     "output_type": "stream",
     "text": [
      "For p1 = 0.5:\n",
      "   Error in market clearing condition 1: 0.5333333333333332\n",
      "   Error in market clearing condition 2: -0.2666666666666666\n",
      "For p1 = 0.7:\n",
      "   Error in market clearing condition 1: 0.20952380952380933\n",
      "   Error in market clearing condition 2: -0.1466666666666666\n",
      "For p1 = 0.9:\n",
      "   Error in market clearing condition 1: 0.029629629629629395\n",
      "   Error in market clearing condition 2: -0.026666666666666616\n",
      "For p1 = 1.1:\n",
      "   Error in market clearing condition 1: -0.0848484848484849\n",
      "   Error in market clearing condition 2: 0.0933333333333336\n",
      "For p1 = 1.3:\n",
      "   Error in market clearing condition 1: -0.16410256410256419\n",
      "   Error in market clearing condition 2: 0.2133333333333336\n",
      "For p1 = 1.5:\n",
      "   Error in market clearing condition 1: -0.22222222222222232\n",
      "   Error in market clearing condition 2: 0.3333333333333335\n",
      "For p1 = 1.7000000000000002:\n",
      "   Error in market clearing condition 1: -0.2666666666666668\n",
      "   Error in market clearing condition 2: 0.4533333333333338\n",
      "For p1 = 1.9000000000000001:\n",
      "   Error in market clearing condition 1: -0.3017543859649124\n",
      "   Error in market clearing condition 2: 0.5733333333333335\n",
      "For p1 = 2.1:\n",
      "   Error in market clearing condition 1: -0.3301587301587302\n",
      "   Error in market clearing condition 2: 0.6933333333333336\n",
      "For p1 = 2.3:\n",
      "   Error in market clearing condition 1: -0.35362318840579715\n",
      "   Error in market clearing condition 2: 0.8133333333333332\n",
      "For p1 = 2.5:\n",
      "   Error in market clearing condition 1: -0.3733333333333334\n",
      "   Error in market clearing condition 2: 0.9333333333333333\n"
     ]
    }
   ],
   "source": [
    "## work for task 2!\n",
    "for p1 in P1:\n",
    "    eps1, eps2 = model.check_market_clearing(p1)\n",
    "    print(f\"For p1 = {p1}:\")\n",
    "    print(\"   Error in market clearing condition 1:\", eps1)\n",
    "    print(\"   Error in market clearing condition 2:\", eps2)\n",
    "\n"
   ]
  },
  {
   "cell_type": "code",
   "execution_count": 69,
   "metadata": {},
   "outputs": [
    {
     "ename": "AttributeError",
     "evalue": "'types.SimpleNamespace' object has no attribute 'w1B'",
     "output_type": "error",
     "traceback": [
      "\u001b[0;31m---------------------------------------------------------------------------\u001b[0m",
      "\u001b[0;31mAttributeError\u001b[0m                            Traceback (most recent call last)",
      "Cell \u001b[0;32mIn[69], line 39\u001b[0m\n\u001b[1;32m     36\u001b[0m     \u001b[38;5;28;01mreturn\u001b[39;00m equilibrium_price\n\u001b[1;32m     38\u001b[0m \u001b[38;5;66;03m# Call the function to find the equilibrium price\u001b[39;00m\n\u001b[0;32m---> 39\u001b[0m equilibrium_price \u001b[38;5;241m=\u001b[39m find_equilibrium_price(model)\n\u001b[1;32m     40\u001b[0m \u001b[38;5;28;01mif\u001b[39;00m equilibrium_price \u001b[38;5;129;01mis\u001b[39;00m \u001b[38;5;129;01mnot\u001b[39;00m \u001b[38;5;28;01mNone\u001b[39;00m:\n\u001b[1;32m     41\u001b[0m     \u001b[38;5;28mprint\u001b[39m(\u001b[38;5;124m\"\u001b[39m\u001b[38;5;124mEquilibrium price:\u001b[39m\u001b[38;5;124m\"\u001b[39m, equilibrium_price)\n",
      "Cell \u001b[0;32mIn[69], line 22\u001b[0m, in \u001b[0;36mfind_equilibrium_price\u001b[0;34m(model, num_steps, tolerance)\u001b[0m\n\u001b[1;32m     19\u001b[0m p1 \u001b[38;5;241m=\u001b[39m \u001b[38;5;241m0.5\u001b[39m \u001b[38;5;241m+\u001b[39m i \u001b[38;5;241m*\u001b[39m (\u001b[38;5;241m2\u001b[39m \u001b[38;5;241m/\u001b[39m num_steps)\n\u001b[1;32m     21\u001b[0m \u001b[38;5;66;03m# Calculate excess demand at the current price\u001b[39;00m\n\u001b[0;32m---> 22\u001b[0m excess_demand_1, excess_demand_2 \u001b[38;5;241m=\u001b[39m calculate_excess_demand(model, p1)\n\u001b[1;32m     24\u001b[0m \u001b[38;5;66;03m# Calculate total excess demand\u001b[39;00m\n\u001b[1;32m     25\u001b[0m total_excess_demand \u001b[38;5;241m=\u001b[39m \u001b[38;5;28mabs\u001b[39m(excess_demand_1) \u001b[38;5;241m+\u001b[39m \u001b[38;5;28mabs\u001b[39m(excess_demand_2)\n",
      "Cell \u001b[0;32mIn[69], line 7\u001b[0m, in \u001b[0;36mcalculate_excess_demand\u001b[0;34m(model, p1)\u001b[0m\n\u001b[1;32m      4\u001b[0m xB1, xB2 \u001b[38;5;241m=\u001b[39m model\u001b[38;5;241m.\u001b[39mdemand_B(p1)\n\u001b[1;32m      6\u001b[0m \u001b[38;5;66;03m# Calculate excess demand for goods 1 and 2\u001b[39;00m\n\u001b[0;32m----> 7\u001b[0m excess_demand_1 \u001b[38;5;241m=\u001b[39m xA1 \u001b[38;5;241m+\u001b[39m xB1 \u001b[38;5;241m-\u001b[39m (model\u001b[38;5;241m.\u001b[39mpar\u001b[38;5;241m.\u001b[39mw1A \u001b[38;5;241m+\u001b[39m model\u001b[38;5;241m.\u001b[39mpar\u001b[38;5;241m.\u001b[39mw1B)\n\u001b[1;32m      8\u001b[0m excess_demand_2 \u001b[38;5;241m=\u001b[39m xA2 \u001b[38;5;241m+\u001b[39m xB2 \u001b[38;5;241m-\u001b[39m (model\u001b[38;5;241m.\u001b[39mpar\u001b[38;5;241m.\u001b[39mw2A \u001b[38;5;241m+\u001b[39m model\u001b[38;5;241m.\u001b[39mpar\u001b[38;5;241m.\u001b[39mw2B)\n\u001b[1;32m     10\u001b[0m \u001b[38;5;28;01mreturn\u001b[39;00m excess_demand_1, excess_demand_2\n",
      "\u001b[0;31mAttributeError\u001b[0m: 'types.SimpleNamespace' object has no attribute 'w1B'"
     ]
    }
   ],
   "source": [
    "def calculate_excess_demand(model, p1):\n",
    "    # Calculate demands for goods 1 and 2 for both agents\n",
    "    xA1, xA2 = model.demand_A(p1)\n",
    "    xB1, xB2 = model.demand_B(p1)\n",
    "    \n",
    "    # Calculate excess demand for goods 1 and 2\n",
    "    excess_demand_1 = xA1 + xB1 - (model.par.w1A + model.par.w1B)\n",
    "    excess_demand_2 = xA2 + xB2 - (model.par.w2A + model.par.w2B)\n",
    "    \n",
    "    return excess_demand_1, excess_demand_2\n",
    "\n",
    "def find_equilibrium_price(model, num_steps=1000, tolerance=1e-6):\n",
    "    # Initialize variables to track equilibrium price and total excess demand\n",
    "    equilibrium_price = None\n",
    "    min_excess_demand = float('inf')\n",
    "    \n",
    "    # Iterate through a range of possible prices\n",
    "    for i in range(num_steps + 1):\n",
    "        p1 = 0.5 + i * (2 / num_steps)\n",
    "        \n",
    "        # Calculate excess demand at the current price\n",
    "        excess_demand_1, excess_demand_2 = calculate_excess_demand(model, p1)\n",
    "        \n",
    "        # Calculate total excess demand\n",
    "        total_excess_demand = abs(excess_demand_1) + abs(excess_demand_2)\n",
    "        \n",
    "        # Update equilibrium price if total excess demand is lower\n",
    "        if total_excess_demand < min_excess_demand:\n",
    "            min_excess_demand = total_excess_demand\n",
    "            equilibrium_price = p1\n",
    "        \n",
    "        # Check for convergence based on tolerance\n",
    "        if total_excess_demand < tolerance:\n",
    "            break\n",
    "    \n",
    "    return equilibrium_price\n",
    "\n",
    "# Call the function to find the equilibrium price\n",
    "equilibrium_price = \n",
    "if equilibrium_price is not None:\n",
    "    print(\"Equilibrium price:\", equilibrium_price)\n",
    "else:\n",
    "    print(\"Equilibrium price not found.\")\n",
    "\n"
   ]
  }
 ],
 "metadata": {
  "kernelspec": {
   "display_name": "base",
   "language": "python",
   "name": "python3"
  },
  "language_info": {
   "codemirror_mode": {
    "name": "ipython",
    "version": 3
   },
   "file_extension": ".py",
   "mimetype": "text/x-python",
   "name": "python",
   "nbconvert_exporter": "python",
   "pygments_lexer": "ipython3",
   "version": "3.11.7"
  }
 },
 "nbformat": 4,
 "nbformat_minor": 2
}
