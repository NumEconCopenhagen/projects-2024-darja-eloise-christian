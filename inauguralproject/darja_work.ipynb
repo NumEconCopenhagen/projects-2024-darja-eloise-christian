{
 "cells": [
  {
   "cell_type": "code",
   "execution_count": 1,
   "metadata": {},
   "outputs": [],
   "source": [
    "import numpy as np"
   ]
  },
  {
   "cell_type": "code",
   "execution_count": 24,
   "metadata": {},
   "outputs": [],
   "source": [
    "# autoreload modules when code is run. Otherwise, python will not see recent changes. \n",
    "%load_ext autoreload\n",
    "%autoreload 2\n",
    "\n",
    "# Import your own code\n",
    "import inauguralproject"
   ]
  },
  {
   "cell_type": "code",
   "execution_count": 25,
   "metadata": {},
   "outputs": [],
   "source": [
    "from ExchangeEconomy import ExchangeEconomyClass\n",
    "model = ExchangeEconomyClass()\n",
    "par = model.par\n",
    "\n",
    "# a. total endowment\n",
    "w1bar = 1.0\n",
    "w2bar = 1.0\n"
   ]
  },
  {
   "cell_type": "code",
   "execution_count": 26,
   "metadata": {},
   "outputs": [
    {
     "name": "stdout",
     "output_type": "stream",
     "text": [
      "[]\n",
      "[0.5, 0.7, 0.9, 1.1, 1.3, 1.5, 1.7000000000000002, 1.9000000000000001, 2.1, 2.3, 2.5]\n"
     ]
    }
   ],
   "source": [
    "# Question 2\n",
    "## defining p1 \n",
    "N = 10  \n",
    "P1 = []\n",
    "print(P1)\n",
    "for i in range(N + 1):\n",
    "    P1.append( 0.5 + i * (2 / N))\n",
    "print(P1)\n",
    "\n",
    "\n"
   ]
  },
  {
   "cell_type": "code",
   "execution_count": 43,
   "metadata": {},
   "outputs": [
    {
     "name": "stdout",
     "output_type": "stream",
     "text": [
      "For P1[0]:\n",
      "Error_A: -1.0666666666666667\n",
      "Error_B: 1.3333333333333333\n",
      "For P1[1]:\n",
      "Error_A: -1.0171428571428571\n",
      "Error_B: 1.0799999999999998\n",
      "For P1[2]:\n",
      "Error_A: -0.9422222222222223\n",
      "Error_B: 0.945185185185185\n",
      "For P1[3]:\n",
      "Error_A: -0.8557575757575755\n",
      "Error_B: 0.8642424242424243\n",
      "For P1[4]:\n",
      "Error_A: -0.7630769230769228\n",
      "Error_B: 0.8123076923076922\n",
      "For P1[5]:\n",
      "Error_A: -0.6666666666666665\n",
      "Error_B: 0.7777777777777777\n",
      "For P1[6]:\n",
      "Error_A: -0.5678431372549015\n",
      "Error_B: 0.7545098039215685\n",
      "For P1[7]:\n",
      "Error_A: -0.46736842105263143\n",
      "Error_B: 0.7389473684210526\n",
      "For P1[8]:\n",
      "Error_A: -0.36571428571428544\n",
      "Error_B: 0.7288888888888889\n",
      "For P1[9]:\n",
      "Error_A: -0.2631884057971017\n",
      "Error_B: 0.7228985507246376\n",
      "For P1[10]:\n",
      "Error_A: -0.15999999999999992\n",
      "Error_B: 0.72\n"
     ]
    }
   ],
   "source": [
    "# calculate error: \n",
    "for i in range(N+1):\n",
    "    error_A_result = model.demand_A(P1[i]) - w1bar - w2bar\n",
    "    error_B_result = model.demand_B(P1[i]) - (1-w1bar) - (1-w2bar)\n",
    "    print(f\"For P1[{i}]:\")\n",
    "    print(\"Error_A:\", error_A_result)\n",
    "    print(\"Error_B:\", error_B_result)"
   ]
  },
  {
   "cell_type": "code",
   "execution_count": null,
   "metadata": {},
   "outputs": [],
   "source": [
    "## question 3 \n",
    "## get market clearing price "
   ]
  }
 ],
 "metadata": {
  "kernelspec": {
   "display_name": "base",
   "language": "python",
   "name": "python3"
  },
  "language_info": {
   "codemirror_mode": {
    "name": "ipython",
    "version": 3
   },
   "file_extension": ".py",
   "mimetype": "text/x-python",
   "name": "python",
   "nbconvert_exporter": "python",
   "pygments_lexer": "ipython3",
   "version": "3.11.7"
  }
 },
 "nbformat": 4,
 "nbformat_minor": 2
}
